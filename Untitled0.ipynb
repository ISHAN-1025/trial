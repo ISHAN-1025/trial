{
  "nbformat": 4,
  "nbformat_minor": 0,
  "metadata": {
    "colab": {
      "name": "Untitled0.ipynb",
      "provenance": [],
      "authorship_tag": "ABX9TyNfI9TAmFDMjd43RfdnaGF8"
    },
    "kernelspec": {
      "name": "python3",
      "display_name": "Python 3"
    },
    "language_info": {
      "name": "python"
    }
  },
  "cells": [
    {
      "cell_type": "code",
      "metadata": {
        "id": "LepJP-sUO91a",
        "colab": {
          "base_uri": "https://localhost:8080/"
        },
        "outputId": "f7e3fba2-306a-4868-9a58-eccb837bd357"
      },
      "source": [
        "import math\n",
        "#Function to find the next perfect square\n",
        "N=int(input())\n",
        "def nextPerfectSquare(N):\n",
        " \n",
        "    nextN = math.floor(math.sqrt(N)) + 1\n",
        " \n",
        "    return nextN * nextN\n",
        "\n",
        "print(nextPerfectSquare(N))"
      ],
      "execution_count": null,
      "outputs": [
        {
          "output_type": "stream",
          "name": "stdout",
          "text": [
            "10\n",
            "16\n"
          ]
        }
      ]
    },
    {
      "cell_type": "code",
      "metadata": {
        "colab": {
          "base_uri": "https://localhost:8080/"
        },
        "id": "ZD5Ku8_6JnJX",
        "outputId": "40fcd7e4-e489-48a5-f4b7-9ffd9f97fa31"
      },
      "source": [
        "l=['jan','feb','mar','apr','may','jun','jul','aug','sept','oct','nov','dec']\n",
        "n=int(input())\n",
        "for i in range (len(l)):\n",
        "  if (n==i):\n",
        "    # j = i-1\n",
        "    print(l[n-1])\n"
      ],
      "execution_count": null,
      "outputs": [
        {
          "name": "stdout",
          "output_type": "stream",
          "text": [
            "12\n"
          ]
        }
      ]
    },
    {
      "cell_type": "code",
      "metadata": {
        "colab": {
          "base_uri": "https://localhost:8080/"
        },
        "id": "MSiJp4cnlH2S",
        "outputId": "5bb8fb3b-be1f-4a75-f06e-6cc523f800d4"
      },
      "source": [
        "from keyword import iskeyword\n",
        "name = str(input())\n",
        "def is_valid_variable_name(name):\n",
        "    return name.isidentifier() and not iskeyword(name)\n",
        "\n",
        "print(is_valid_variable_name(name))"
      ],
      "execution_count": null,
      "outputs": [
        {
          "output_type": "stream",
          "name": "stdout",
          "text": [
            "Var_1_abc\n",
            "True\n"
          ]
        }
      ]
    },
    {
      "cell_type": "code",
      "metadata": {
        "colab": {
          "base_uri": "https://localhost:8080/"
        },
        "id": "gc_802fNgo0i",
        "outputId": "77bb71ea-cd8e-4466-b9a7-1967081e53e8"
      },
      "source": [
        "N=str(input())\n",
        "#b = len(N)\n",
        "for i in N:\n",
        "  print(i)\n",
        "  if 'i' == 'i'+'1' :\n",
        "    N.pop(i+1)\n",
        "    print(N)"
      ],
      "execution_count": null,
      "outputs": [
        {
          "output_type": "stream",
          "name": "stdout",
          "text": [
            "vvbbjgcjcvnn\n",
            "v\n",
            "v\n",
            "b\n",
            "b\n",
            "j\n",
            "g\n",
            "c\n",
            "j\n",
            "c\n",
            "v\n",
            "n\n",
            "n\n"
          ]
        }
      ]
    },
    {
      "cell_type": "code",
      "metadata": {
        "colab": {
          "base_uri": "https://localhost:8080/"
        },
        "id": "iic9so_OfQ9M",
        "outputId": "787d2b31-8268-413f-8421-5d854b371ed9"
      },
      "source": [
        "math.sqrt(5)"
      ],
      "execution_count": null,
      "outputs": [
        {
          "output_type": "execute_result",
          "data": {
            "text/plain": [
              "2.23606797749979"
            ]
          },
          "metadata": {},
          "execution_count": 8
        }
      ]
    },
    {
      "cell_type": "code",
      "metadata": {
        "colab": {
          "base_uri": "https://localhost:8080/",
          "height": 246
        },
        "id": "t_lZJnwXPQCs",
        "outputId": "6e80061e-1a53-4923-83ab-c3aec3be30e8"
      },
      "source": [
        "import math\n",
        "n=int(input())\n",
        "A=list(map(int,input().split(\",\")))\n",
        "b=A[:n//2]\n",
        "c=A[n//2:]\n",
        "print(abs((max(b)-min(b)+(max(c)-min(c)))))\n"
      ],
      "execution_count": null,
      "outputs": [
        {
          "name": "stdout",
          "output_type": "stream",
          "text": [
            "1\n",
            "2\n"
          ]
        },
        {
          "output_type": "error",
          "ename": "ValueError",
          "evalue": "ignored",
          "traceback": [
            "\u001b[0;31m---------------------------------------------------------------------------\u001b[0m",
            "\u001b[0;31mValueError\u001b[0m                                Traceback (most recent call last)",
            "\u001b[0;32m<ipython-input-6-32df883af64f>\u001b[0m in \u001b[0;36m<module>\u001b[0;34m()\u001b[0m\n\u001b[1;32m      4\u001b[0m \u001b[0mb\u001b[0m\u001b[0;34m=\u001b[0m\u001b[0mA\u001b[0m\u001b[0;34m[\u001b[0m\u001b[0;34m:\u001b[0m\u001b[0mn\u001b[0m\u001b[0;34m//\u001b[0m\u001b[0;36m2\u001b[0m\u001b[0;34m]\u001b[0m\u001b[0;34m\u001b[0m\u001b[0;34m\u001b[0m\u001b[0m\n\u001b[1;32m      5\u001b[0m \u001b[0mc\u001b[0m\u001b[0;34m=\u001b[0m\u001b[0mA\u001b[0m\u001b[0;34m[\u001b[0m\u001b[0mn\u001b[0m\u001b[0;34m//\u001b[0m\u001b[0;36m2\u001b[0m\u001b[0;34m:\u001b[0m\u001b[0;34m]\u001b[0m\u001b[0;34m\u001b[0m\u001b[0;34m\u001b[0m\u001b[0m\n\u001b[0;32m----> 6\u001b[0;31m \u001b[0mprint\u001b[0m\u001b[0;34m(\u001b[0m\u001b[0mabs\u001b[0m\u001b[0;34m(\u001b[0m\u001b[0;34m(\u001b[0m\u001b[0mmax\u001b[0m\u001b[0;34m(\u001b[0m\u001b[0mb\u001b[0m\u001b[0;34m)\u001b[0m\u001b[0;34m-\u001b[0m\u001b[0mmin\u001b[0m\u001b[0;34m(\u001b[0m\u001b[0mb\u001b[0m\u001b[0;34m)\u001b[0m\u001b[0;34m+\u001b[0m\u001b[0;34m(\u001b[0m\u001b[0mmax\u001b[0m\u001b[0;34m(\u001b[0m\u001b[0mc\u001b[0m\u001b[0;34m)\u001b[0m\u001b[0;34m-\u001b[0m\u001b[0mmin\u001b[0m\u001b[0;34m(\u001b[0m\u001b[0mc\u001b[0m\u001b[0;34m)\u001b[0m\u001b[0;34m)\u001b[0m\u001b[0;34m)\u001b[0m\u001b[0;34m)\u001b[0m\u001b[0;34m)\u001b[0m\u001b[0;34m\u001b[0m\u001b[0;34m\u001b[0m\u001b[0m\n\u001b[0m\u001b[1;32m      7\u001b[0m \u001b[0msqrt\u001b[0m\u001b[0;34m(\u001b[0m\u001b[0;36m10\u001b[0m\u001b[0;34m)\u001b[0m\u001b[0;34m\u001b[0m\u001b[0;34m\u001b[0m\u001b[0m\n",
            "\u001b[0;31mValueError\u001b[0m: max() arg is an empty sequence"
          ]
        }
      ]
    },
    {
      "cell_type": "code",
      "metadata": {
        "colab": {
          "base_uri": "https://localhost:8080/"
        },
        "id": "J2IWOViePuys",
        "outputId": "66270294-0156-445b-82d9-2a71bcccb593"
      },
      "source": [
        "n = int(input())\n",
        "\n",
        "# Read an integer array from standard input:\n",
        "arr = list(map(int, input().split()))"
      ],
      "execution_count": null,
      "outputs": [
        {
          "name": "stdout",
          "output_type": "stream",
          "text": [
            "2\n",
            "2 5 7 6 4 3 1 7 8 9 6 3 2 1 4 \n"
          ]
        }
      ]
    },
    {
      "cell_type": "code",
      "metadata": {
        "colab": {
          "base_uri": "https://localhost:8080/"
        },
        "id": "MKcYaS2GQmCm",
        "outputId": "3c465d07-0ed5-4650-f3b2-43698c0348b4"
      },
      "source": [
        "arr"
      ],
      "execution_count": null,
      "outputs": [
        {
          "output_type": "execute_result",
          "data": {
            "text/plain": [
              "[2, 5, 7, 6, 4, 3, 1, 7, 8, 9, 6, 3, 2, 1, 4]"
            ]
          },
          "metadata": {},
          "execution_count": 2
        }
      ]
    },
    {
      "cell_type": "code",
      "metadata": {
        "colab": {
          "base_uri": "https://localhost:8080/"
        },
        "id": "lo69lyQuWEYH",
        "outputId": "cf82c1bc-f742-4ea8-9677-2fdfce88f1bb"
      },
      "source": [
        "x = 5\n",
        "print(x)\n",
        "print(x, end=\" \\t\")\n",
        "print(x)"
      ],
      "execution_count": null,
      "outputs": [
        {
          "output_type": "stream",
          "name": "stdout",
          "text": [
            "5\n",
            "5 \t5\n"
          ]
        }
      ]
    },
    {
      "cell_type": "code",
      "metadata": {
        "id": "zonJrW0uXRV7",
        "colab": {
          "base_uri": "https://localhost:8080/"
        },
        "outputId": "32b7a7a6-95d5-489c-acd0-d2ddfda06afe"
      },
      "source": [
        "def printPretty2dArray(arr):\n",
        "    print('\\n'.join(['\\t'.join([str(cell) for cell in row]) for row in arr]))\n",
        "\n",
        "matrix = [[1, 2, 3], [4, 5, 6]]\n",
        "print(matrix)\n",
        "printPretty2dArray(matrix)"
      ],
      "execution_count": null,
      "outputs": [
        {
          "output_type": "stream",
          "name": "stdout",
          "text": [
            "[[1, 2, 3], [4, 5, 6]]\n",
            "1\t2\t3\n",
            "4\t5\t6\n"
          ]
        }
      ]
    },
    {
      "cell_type": "code",
      "metadata": {
        "colab": {
          "base_uri": "https://localhost:8080/"
        },
        "id": "jQqVRMkLnX1j",
        "outputId": "fa3257bd-f428-466f-cc7d-021b3a5673a6"
      },
      "source": [
        "#correct code \n",
        "#ninja warrior\n",
        "\n",
        "n=int(input())\n",
        "h=int(input())\n",
        "s=int(input())\n",
        "c=0\n",
        "a=list(map(int,input().split()))[:n]\n",
        "\n",
        "# for i in range(n):\n",
        "#   x=int(input())\n",
        "#   a.append(x)\n",
        "for i in range(n):\n",
        "  x=a[i]\n",
        "  while(True):\n",
        "    x=x-h\n",
        "    if x<=0:\n",
        "      c=c+1\n",
        "      i+=1\n",
        "      break\n",
        "    else:\n",
        "      x=x+s\n",
        "      c=c+1\n",
        "print(\"output: \",c)"
      ],
      "execution_count": null,
      "outputs": [
        {
          "output_type": "stream",
          "name": "stdout",
          "text": [
            "2\n",
            "10\n",
            "2\n",
            "20 15\n",
            "output:  5\n"
          ]
        }
      ]
    },
    {
      "cell_type": "code",
      "metadata": {
        "colab": {
          "base_uri": "https://localhost:8080/"
        },
        "id": "VCcFUhG6pNwi",
        "outputId": "f3fdf096-c5cd-4cd9-c608-17836f7ff326"
      },
      "source": [
        "#mycode\n",
        "n=int(input())\n",
        "h=int(input())\n",
        "s=int(input())\n",
        "c=0\n",
        "a=list(map(int,input().split()))[:n]\n",
        "ans=0\n",
        "b=0\n",
        "cur=1\n",
        "for i in range(n):\n",
        "  while((cur+h)>a[i]):\n",
        "    cur+=h\n",
        "    cur-=s\n",
        "    b+=1\n",
        "    ans+=(b+1)\n",
        "print(\"output: \",ans)   \n"
      ],
      "execution_count": null,
      "outputs": [
        {
          "output_type": "stream",
          "name": "stdout",
          "text": [
            "2\n",
            "10\n",
            "2\n",
            "20 15\n",
            "output:  0\n"
          ]
        }
      ]
    },
    {
      "cell_type": "code",
      "metadata": {
        "colab": {
          "base_uri": "https://localhost:8080/"
        },
        "id": "TNOodYrgLGbd",
        "outputId": "11d56c92-b013-4374-bde7-3be32224bb36"
      },
      "source": [
        "print('\\t\"Ninja Warrior\"\\t')\n",
        "N = int(input(\"enter the number of ropes\"))\n",
        "H = int(input(\"enter the pulls up\"))\n",
        "S = int(input(\"enter the pulls down\"))\n",
        "c = 0\n",
        "lis = []\n",
        "for i in range(N):\n",
        "    lis.append(int(input(\"enter the length of rope %d \" % (i + 1))))\n",
        "for val in lis:\n",
        "    if val % (H - S) == 0:\n",
        "        c = val // (H - S)\n",
        "    elif val == H:\n",
        "        c = c + 1\n",
        "    else:\n",
        "        c = c + val // (H - S)\n",
        "        c = c + 1\n",
        "print(\"total numbers of jump =\", c)\n"
      ],
      "execution_count": null,
      "outputs": [
        {
          "output_type": "stream",
          "name": "stdout",
          "text": [
            "\t\"Ninja Warrior\"\t\n",
            "enter the number of ropes2\n",
            "enter the pulls up10\n",
            "enter the pulls down2\n",
            "enter the length of rope 1 20\n",
            "enter the length of rope 2 15\n",
            "total numbers of jump = 5\n"
          ]
        }
      ]
    },
    {
      "cell_type": "code",
      "metadata": {
        "colab": {
          "base_uri": "https://localhost:8080/",
          "height": 363
        },
        "id": "_vwRo_9FbFBW",
        "outputId": "995de276-04d6-4fcd-808b-4861def4b8ff"
      },
      "source": [
        "def solve (A):\n",
        "    # b=len(A)\n",
        "    c=[]\n",
        "    c.append(A[:(N//2)][i][0])\n",
        "    c.append(A[(N//2):][-1])\n",
        "    return c\n",
        "\n",
        "N = int(input())\n",
        "A = list(map(int, input().split()))\n",
        "\n",
        "out_ = solve(A)\n",
        "print (out_)"
      ],
      "execution_count": null,
      "outputs": [
        {
          "name": "stdout",
          "output_type": "stream",
          "text": [
            "6\n",
            "15478 8452 8232 874 985 4512\n"
          ]
        },
        {
          "output_type": "error",
          "ename": "IndexError",
          "evalue": "ignored",
          "traceback": [
            "\u001b[0;31m---------------------------------------------------------------------------\u001b[0m",
            "\u001b[0;31mIndexError\u001b[0m                                Traceback (most recent call last)",
            "\u001b[0;32m<ipython-input-8-1ecce7d000c7>\u001b[0m in \u001b[0;36m<module>\u001b[0;34m()\u001b[0m\n\u001b[1;32m     11\u001b[0m \u001b[0mA\u001b[0m \u001b[0;34m=\u001b[0m \u001b[0mlist\u001b[0m\u001b[0;34m(\u001b[0m\u001b[0mmap\u001b[0m\u001b[0;34m(\u001b[0m\u001b[0mint\u001b[0m\u001b[0;34m,\u001b[0m \u001b[0minput\u001b[0m\u001b[0;34m(\u001b[0m\u001b[0;34m)\u001b[0m\u001b[0;34m.\u001b[0m\u001b[0msplit\u001b[0m\u001b[0;34m(\u001b[0m\u001b[0;34m)\u001b[0m\u001b[0;34m)\u001b[0m\u001b[0;34m)\u001b[0m\u001b[0;34m\u001b[0m\u001b[0;34m\u001b[0m\u001b[0m\n\u001b[1;32m     12\u001b[0m \u001b[0;34m\u001b[0m\u001b[0m\n\u001b[0;32m---> 13\u001b[0;31m \u001b[0mout_\u001b[0m \u001b[0;34m=\u001b[0m \u001b[0msolve\u001b[0m\u001b[0;34m(\u001b[0m\u001b[0mA\u001b[0m\u001b[0;34m)\u001b[0m\u001b[0;34m\u001b[0m\u001b[0;34m\u001b[0m\u001b[0m\n\u001b[0m\u001b[1;32m     14\u001b[0m \u001b[0mprint\u001b[0m \u001b[0;34m(\u001b[0m\u001b[0mout_\u001b[0m\u001b[0;34m)\u001b[0m\u001b[0;34m\u001b[0m\u001b[0;34m\u001b[0m\u001b[0m\n",
            "\u001b[0;32m<ipython-input-8-1ecce7d000c7>\u001b[0m in \u001b[0;36msolve\u001b[0;34m(A)\u001b[0m\n\u001b[1;32m      3\u001b[0m     \u001b[0mc\u001b[0m\u001b[0;34m=\u001b[0m\u001b[0;34m[\u001b[0m\u001b[0;34m]\u001b[0m\u001b[0;34m\u001b[0m\u001b[0;34m\u001b[0m\u001b[0m\n\u001b[1;32m      4\u001b[0m     \u001b[0;32mfor\u001b[0m \u001b[0mi\u001b[0m \u001b[0;32min\u001b[0m \u001b[0mA\u001b[0m\u001b[0;34m:\u001b[0m\u001b[0;34m\u001b[0m\u001b[0;34m\u001b[0m\u001b[0m\n\u001b[0;32m----> 5\u001b[0;31m         \u001b[0mc\u001b[0m\u001b[0;34m.\u001b[0m\u001b[0mappend\u001b[0m\u001b[0;34m(\u001b[0m\u001b[0mA\u001b[0m\u001b[0;34m[\u001b[0m\u001b[0;34m:\u001b[0m\u001b[0;34m(\u001b[0m\u001b[0mN\u001b[0m\u001b[0;34m//\u001b[0m\u001b[0;36m2\u001b[0m\u001b[0;34m)\u001b[0m\u001b[0;34m]\u001b[0m\u001b[0;34m[\u001b[0m\u001b[0mi\u001b[0m\u001b[0;34m]\u001b[0m\u001b[0;34m[\u001b[0m\u001b[0;36m0\u001b[0m\u001b[0;34m]\u001b[0m\u001b[0;34m)\u001b[0m\u001b[0;34m\u001b[0m\u001b[0;34m\u001b[0m\u001b[0m\n\u001b[0m\u001b[1;32m      6\u001b[0m         \u001b[0mc\u001b[0m\u001b[0;34m.\u001b[0m\u001b[0mappend\u001b[0m\u001b[0;34m(\u001b[0m\u001b[0mA\u001b[0m\u001b[0;34m[\u001b[0m\u001b[0;34m(\u001b[0m\u001b[0mN\u001b[0m\u001b[0;34m//\u001b[0m\u001b[0;36m2\u001b[0m\u001b[0;34m)\u001b[0m\u001b[0;34m:\u001b[0m\u001b[0;34m]\u001b[0m\u001b[0;34m[\u001b[0m\u001b[0;34m-\u001b[0m\u001b[0;36m1\u001b[0m\u001b[0;34m]\u001b[0m\u001b[0;34m)\u001b[0m\u001b[0;34m\u001b[0m\u001b[0;34m\u001b[0m\u001b[0m\n\u001b[1;32m      7\u001b[0m \u001b[0;34m\u001b[0m\u001b[0m\n",
            "\u001b[0;31mIndexError\u001b[0m: list index out of range"
          ]
        }
      ]
    },
    {
      "cell_type": "code",
      "metadata": {
        "colab": {
          "base_uri": "https://localhost:8080/"
        },
        "id": "EklWm4vSTXRz",
        "outputId": "74b6f701-4ed5-4429-d3e6-befab4ce84ea"
      },
      "source": [
        "a=[1,2,3,4,5,6,7,8,9,0,2,5,4,5,6,6,3,0,7,8,9,1,2,0]\n",
        "c=[[x,a.count(x)] for x in set(a)]\n",
        "b=[[x,a.count(x)] for x in set(a)]\n",
        "print(c)"
      ],
      "execution_count": null,
      "outputs": [
        {
          "output_type": "stream",
          "name": "stdout",
          "text": [
            "[[0, 3], [1, 2], [2, 3], [3, 2], [4, 2], [5, 3], [6, 3], [7, 2], [8, 2], [9, 2]]\n"
          ]
        }
      ]
    },
    {
      "cell_type": "code",
      "metadata": {
        "colab": {
          "base_uri": "https://localhost:8080/"
        },
        "id": "OGyODAEXVsp5",
        "outputId": "ea1761dd-d0ae-420f-db72-f6b44b510d75"
      },
      "source": [
        "import array\n",
        "a = [1, 2, 3]\n",
        "print(a[-3])\n",
        "print (a[-2])\n",
        "print (a[-1])"
      ],
      "execution_count": null,
      "outputs": [
        {
          "output_type": "stream",
          "name": "stdout",
          "text": [
            "1\n",
            "2\n",
            "3\n"
          ]
        }
      ]
    },
    {
      "cell_type": "code",
      "metadata": {
        "colab": {
          "base_uri": "https://localhost:8080/"
        },
        "id": "W7zPzWLLTRwy",
        "outputId": "2812276c-d5a6-4203-a80d-4295b76664d1"
      },
      "source": [
        "def is_perfect_cube(number) -> bool:\n",
        "\n",
        "    number = abs(number)  # Prevents errors due to negative numbers\n",
        "    return round(number ** (1 / 3)) ** 3 == number\n",
        "\n",
        "\n",
        "# Some random integer values\n",
        "values = list(map(int,input().split()))\n",
        "c=0\n",
        "# See if each number is a perfect cube\n",
        "for value in values:\n",
        "    is_cube = is_perfect_cube(value)\n",
        "\n",
        "    if is_cube:\n",
        "        c+=1\n",
        "        # print(value, \"is a perfect cube!\")\n",
        "\n",
        "print(c)"
      ],
      "execution_count": null,
      "outputs": [
        {
          "output_type": "stream",
          "name": "stdout",
          "text": [
            "23 1 8 56 27 67 64 125 232\n",
            "5\n"
          ]
        }
      ]
    },
    {
      "cell_type": "code",
      "metadata": {
        "colab": {
          "base_uri": "https://localhost:8080/"
        },
        "id": "P9F3TuTHZIhO",
        "outputId": "107f7745-c782-4c30-c891-23532ade02b4"
      },
      "source": [
        "n=int(input())\n",
        "mylist=list(map(int,input().split()))\n",
        "prime=[]\n",
        "for i in mylist:\n",
        "\tc=0\n",
        "\tfor j in range(1,i):\n",
        "\t\tif i%j==0:\n",
        "\t\t\tc+=1\n",
        "\tif c==1:\n",
        "\t\tprime.append(i)\n",
        "for i in mylist:\n",
        "  prime.append(i)\n",
        "ans=set(prime)\n",
        "print(ans)"
      ],
      "execution_count": null,
      "outputs": [
        {
          "output_type": "stream",
          "name": "stdout",
          "text": [
            "7\n",
            "2 9 5 3 14 80 17\n",
            "{2, 3, 5, 9, 14, 80, 17}\n"
          ]
        }
      ]
    },
    {
      "cell_type": "code",
      "metadata": {
        "colab": {
          "base_uri": "https://localhost:8080/"
        },
        "id": "LIXE95Hvfy1g",
        "outputId": "88a965ac-3f8a-48f7-ce37-69631ea5d79f"
      },
      "source": [
        "n=int(input())\n",
        "mylist=list(map(int,input().split()))[:n]\n",
        "b=[[x,mylist.count(x)] for x in set(mylist)]\n",
        "c=[]\n",
        "for key,value in b:\n",
        "  if key==value:\n",
        "    c.append(key)\n",
        "print(c)\n",
        "x=max(c)\n",
        "print(x)"
      ],
      "execution_count": null,
      "outputs": [
        {
          "output_type": "stream",
          "name": "stdout",
          "text": [
            "10\n",
            "2 4 4 4 4 3 3 3 5 7\n",
            "[3, 4]\n",
            "4\n"
          ]
        }
      ]
    },
    {
      "cell_type": "code",
      "metadata": {
        "colab": {
          "base_uri": "https://localhost:8080/"
        },
        "id": "BvCLgHuLhtY2",
        "outputId": "d1323ccc-22cd-4a0e-a2de-682cb69720bf"
      },
      "source": [
        "n=int(input())\n",
        "\n",
        "c=[int(d) for d in str(n)]\n",
        "print(min(c))\n",
        "c\n",
        "\n",
        "\n"
      ],
      "execution_count": null,
      "outputs": [
        {
          "output_type": "stream",
          "name": "stdout",
          "text": [
            "353552\n",
            "2\n"
          ]
        },
        {
          "output_type": "execute_result",
          "data": {
            "text/plain": [
              "[3, 5, 3, 5, 5, 2]"
            ]
          },
          "metadata": {},
          "execution_count": 49
        }
      ]
    },
    {
      "cell_type": "code",
      "metadata": {
        "colab": {
          "base_uri": "https://localhost:8080/"
        },
        "id": "mITdjra0moel",
        "outputId": "c540086f-ef04-4962-9786-b99d8a94cb19"
      },
      "source": [
        "from itertools import permutations\n",
        "n=int(input())\n",
        "c= list(permutations([i for i in str(n)]))\n",
        "print(c)\n",
        "res = [''.join(i) for i in c]\n",
        "p=[]\n",
        "for i in res:\n",
        "  p.append(int(i))\n",
        "q=max(p)\n",
        "w=min(p)\n",
        "z=q+w\n",
        "print(z)"
      ],
      "execution_count": null,
      "outputs": [
        {
          "output_type": "stream",
          "name": "stdout",
          "text": [
            "734\n",
            "[('7', '3', '4'), ('7', '4', '3'), ('3', '7', '4'), ('3', '4', '7'), ('4', '7', '3'), ('4', '3', '7')]\n",
            "1090\n"
          ]
        }
      ]
    },
    {
      "cell_type": "code",
      "metadata": {
        "id": "MtzGgcTcuKW0"
      },
      "source": [
        "list = [6,8,95,2,12,152,4,78,621,45]\n",
        "sum = 0\n",
        "\n",
        "for x in list:\n",
        "    if list (0 % 2) == 0:\n",
        "        sum = sum + list[x]\n",
        "    elif list (0 % 2) != 0:\n",
        "        sum = sum - list[x]\n",
        "    return sum"
      ],
      "execution_count": null,
      "outputs": []
    },
    {
      "cell_type": "code",
      "metadata": {
        "colab": {
          "base_uri": "https://localhost:8080/"
        },
        "id": "G7TJAR8_FilS",
        "outputId": "89409eda-4542-4566-e20a-fb8ba6734ba7"
      },
      "source": [
        "n=input()\n",
        "list=[int(d) for d in str(n)]\n",
        "for x,i in enumerate(list):\n",
        "    if i % 2:    # odd\n",
        "        i=i-1\n",
        "        list[x]=i\n",
        "    else:        # even\n",
        "        i=i+1\n",
        "        list[x]=i\n",
        "print(list)\n",
        "print(''.join(map(str, list))) "
      ],
      "execution_count": null,
      "outputs": [
        {
          "output_type": "stream",
          "name": "stdout",
          "text": [
            "245567\n",
            "[3, 5, 4, 4, 7, 6]\n",
            "354476\n"
          ]
        }
      ]
    },
    {
      "cell_type": "code",
      "metadata": {
        "id": "_W49WXfUGYfw"
      },
      "source": [
        "myList = [\"one\", \"two\", 37, \"four\", 51];\n",
        "for i, item in enumerate(myList):\n",
        "\tif item == 37:\n",
        "\t\tmyList[i] = 48;\n",
        "print(myList);"
      ],
      "execution_count": null,
      "outputs": []
    },
    {
      "cell_type": "code",
      "metadata": {
        "colab": {
          "base_uri": "https://localhost:8080/"
        },
        "id": "iRk2uqvSK_R3",
        "outputId": "a598cdd3-e38e-464f-cb91-bdfb954fa30f"
      },
      "source": [
        "n=int(input())\n",
        "list=list(map(int,input().split()))\n",
        "pos_count, neg_count = 0, 0\n",
        "for num in list:\n",
        "      \n",
        "    if num >= 0:\n",
        "        pos_count += 1\n",
        "  \n",
        "    else:\n",
        "        neg_count += 1\n",
        "print(pos_count)"
      ],
      "execution_count": null,
      "outputs": [
        {
          "output_type": "stream",
          "name": "stdout",
          "text": [
            "7\n",
            "23 -7 13 -34 56 43 -12\n",
            "4\n"
          ]
        }
      ]
    },
    {
      "cell_type": "code",
      "metadata": {
        "colab": {
          "base_uri": "https://localhost:8080/"
        },
        "id": "Jnp5Qg54RI8n",
        "outputId": "6dad386e-f86a-43df-ba23-b9876c614bca"
      },
      "source": [
        "n,m,l=input().split()\n",
        "\n",
        "n=str(n)\n",
        "m=str(m)\n",
        "l=str(l)\n",
        "c=[]\n",
        "d=[]\n",
        "f=[]\n",
        "for i in n:\n",
        "  c.append(int(i))\n",
        "for i in m:\n",
        "  d.append(int(i))\n",
        "for i in l:\n",
        "  f.append(int(i))\n",
        "q=max(c)\n",
        "w=max(d)\n",
        "e=max(f)\n",
        "a=q+w+e \n",
        "c.remove(q)\n",
        "d.remove(q)\n",
        "f.remove(q)\n",
        "q=max(c)\n",
        "w=max(d)\n",
        "e=max(f)\n",
        "b=q+w+e\n",
        "print(a-b)"
      ],
      "execution_count": null,
      "outputs": [
        {
          "output_type": "stream",
          "name": "stdout",
          "text": [
            "3521 2452 1352\n",
            "5\n"
          ]
        }
      ]
    },
    {
      "cell_type": "code",
      "metadata": {
        "colab": {
          "base_uri": "https://localhost:8080/"
        },
        "id": "gCH2yWWYNrii",
        "outputId": "6baf28d4-a87f-48fa-8cc0-f788a4bfca43"
      },
      "source": [
        "n=str(input())\n",
        "m=[i for i in n.split(\" \")]\n",
        "c=m[-1]\n",
        "b=len(c)\n",
        "b"
      ],
      "execution_count": null,
      "outputs": [
        {
          "name": "stdout",
          "output_type": "stream",
          "text": [
            "i am a devil\n"
          ]
        },
        {
          "output_type": "execute_result",
          "data": {
            "text/plain": [
              "5"
            ]
          },
          "metadata": {},
          "execution_count": 8
        }
      ]
    },
    {
      "cell_type": "code",
      "metadata": {
        "colab": {
          "base_uri": "https://localhost:8080/"
        },
        "id": "rL_G8qThfTjI",
        "outputId": "a47896fb-7f35-4c0f-c205-96d05ea3f18c"
      },
      "source": [
        "n=int(input())\n",
        "k=bin(n).replace(\"0b\", \"\")\n",
        "print(k)"
      ],
      "execution_count": null,
      "outputs": [
        {
          "output_type": "stream",
          "name": "stdout",
          "text": [
            "123\n",
            "1111011\n"
          ]
        }
      ]
    },
    {
      "cell_type": "code",
      "metadata": {
        "colab": {
          "base_uri": "https://localhost:8080/"
        },
        "id": "cysz5iPNj3E9",
        "outputId": "27aa3479-284f-4109-9c80-b5c5ab7da179"
      },
      "source": [
        "def balance(n,a):\n",
        "  min=999999\n",
        "  for i in range(n):\n",
        "    for j in range(i+1,n):\n",
        "      mul=a[i]*a[j]\n",
        "      if (mul<min):\n",
        "        min=mul\n",
        "        s=a[i]+a[j]\n",
        "  return s\n",
        "\n",
        "n=int(input())\n",
        "a=list(map(int,input().split()))\n",
        "print(balance(n,a))"
      ],
      "execution_count": null,
      "outputs": [
        {
          "output_type": "stream",
          "name": "stdout",
          "text": [
            "5\n",
            "1 8 -5 7 5\n",
            "3\n"
          ]
        }
      ]
    },
    {
      "cell_type": "code",
      "metadata": {
        "colab": {
          "base_uri": "https://localhost:8080/"
        },
        "id": "v4tO74SaryIw",
        "outputId": "d66db79a-126f-44cf-e912-032f569d3a4f"
      },
      "source": [
        "n=input()\n",
        "a=[i for i in n.split(\" \")]\n",
        "b=[[x,a.count(x)] for x in set(a) ]\n",
        "c=0\n",
        "for k,v in b:\n",
        "  if v==1:\n",
        "    c+=1\n",
        "\n",
        "c    "
      ],
      "execution_count": null,
      "outputs": [
        {
          "name": "stdout",
          "output_type": "stream",
          "text": [
            "i love to swim and i like to travel abroad\n"
          ]
        },
        {
          "output_type": "execute_result",
          "data": {
            "text/plain": [
              "6"
            ]
          },
          "metadata": {},
          "execution_count": 9
        }
      ]
    },
    {
      "cell_type": "code",
      "metadata": {
        "colab": {
          "base_uri": "https://localhost:8080/"
        },
        "id": "jcMNkJrk8Dzh",
        "outputId": "3619b228-37d0-4e7a-ebc6-05a00001bf7e"
      },
      "source": [
        "n=int(input())\n",
        "list=list(map(int,input().split()))\n",
        "pos_count, neg_count = 0, 0\n",
        "for num in list:\n",
        "      \n",
        "    if num >= 0:\n",
        "        pos_count += 1\n",
        "  \n",
        "    else:\n",
        "        neg_count += 1\n",
        "print(pos_count)"
      ],
      "execution_count": null,
      "outputs": [
        {
          "output_type": "stream",
          "name": "stdout",
          "text": [
            "7\n",
            "23 -7 13 -34 56 43 -12\n",
            "4\n"
          ]
        }
      ]
    },
    {
      "cell_type": "code",
      "metadata": {
        "colab": {
          "base_uri": "https://localhost:8080/"
        },
        "id": "NnrJElq0-z27",
        "outputId": "a5d8ed50-a6d7-4dae-e8cf-94790711babb"
      },
      "source": [
        "n=input()\n",
        "k=n.swapcase()\n",
        "print(k)"
      ],
      "execution_count": null,
      "outputs": [
        {
          "output_type": "stream",
          "name": "stdout",
          "text": [
            "Hello World People\n",
            "hELLO wORLD pEOPLE\n"
          ]
        }
      ]
    },
    {
      "cell_type": "code",
      "metadata": {
        "colab": {
          "base_uri": "https://localhost:8080/"
        },
        "id": "ocsYhCrQCJkF",
        "outputId": "d2057f24-c285-4a41-e862-c07e2a586935"
      },
      "source": [
        "n=input()\n",
        "c=0\n",
        "for i in n:\n",
        "  if i.isdigit():\n",
        "    c+=1\n",
        "\n",
        "print(c)"
      ],
      "execution_count": null,
      "outputs": [
        {
          "output_type": "stream",
          "name": "stdout",
          "text": [
            "rah23ul\n",
            "2\n"
          ]
        }
      ]
    },
    {
      "cell_type": "code",
      "metadata": {
        "colab": {
          "base_uri": "https://localhost:8080/"
        },
        "id": "sxOx6rDKCh9J",
        "outputId": "5a57627a-64ac-4449-f13a-90e69742e55e"
      },
      "source": [
        "n=int(input())\n",
        "a=list(map(int,input().split()))\n",
        "a.sort()\n",
        "print(a[-1]+a[-2])"
      ],
      "execution_count": null,
      "outputs": [
        {
          "output_type": "stream",
          "name": "stdout",
          "text": [
            "5\n",
            "15 26 13 7 45\n",
            "71\n"
          ]
        }
      ]
    },
    {
      "cell_type": "code",
      "metadata": {
        "colab": {
          "base_uri": "https://localhost:8080/"
        },
        "id": "nrOvVXH05PQe",
        "outputId": "761d95bf-30ee-4413-eb8b-1a52d15b5ee5"
      },
      "source": [
        "c={'0':'a',\n",
        "   '1':'b',\n",
        "   '2':'c',\n",
        "   '3':'d',\n",
        "   '4':'e',\n",
        "   '5':'f',\n",
        "   '6':'g',\n",
        "   '7':'h',\n",
        "   '8':'i',\n",
        "   '9':'j'}\n",
        "n=input()\n",
        "m=[]\n",
        "for i in n:\n",
        "  for j,l in c.items():\n",
        "     if (i==j):\n",
        "        m.append(l)\n",
        "print(''.join(map(str, m))) "
      ],
      "execution_count": null,
      "outputs": [
        {
          "output_type": "stream",
          "name": "stdout",
          "text": [
            "12403\n",
            "bcead\n"
          ]
        }
      ]
    },
    {
      "cell_type": "code",
      "metadata": {
        "id": "ruqMA8gY7lcR"
      },
      "source": [
        ""
      ],
      "execution_count": null,
      "outputs": []
    },
    {
      "cell_type": "code",
      "metadata": {
        "colab": {
          "base_uri": "https://localhost:8080/",
          "height": 252
        },
        "id": "h7pR19437mFu",
        "outputId": "df93f755-6855-49e1-ead9-59de98381cba"
      },
      "source": [
        "n,m=input().split()\n",
        "c=list(map(int,input().split()))\n",
        "c.sort()\n",
        "print(c[m])"
      ],
      "execution_count": null,
      "outputs": [
        {
          "name": "stdout",
          "output_type": "stream",
          "text": [
            "5 3\n",
            "45 32 67 21 12\n"
          ]
        },
        {
          "output_type": "error",
          "ename": "TypeError",
          "evalue": "ignored",
          "traceback": [
            "\u001b[0;31m---------------------------------------------------------------------------\u001b[0m",
            "\u001b[0;31mTypeError\u001b[0m                                 Traceback (most recent call last)",
            "\u001b[0;32m<ipython-input-7-2a78cdeeca90>\u001b[0m in \u001b[0;36m<module>\u001b[0;34m()\u001b[0m\n\u001b[1;32m      1\u001b[0m \u001b[0mn\u001b[0m\u001b[0;34m,\u001b[0m\u001b[0mm\u001b[0m\u001b[0;34m=\u001b[0m\u001b[0minput\u001b[0m\u001b[0;34m(\u001b[0m\u001b[0;34m)\u001b[0m\u001b[0;34m.\u001b[0m\u001b[0msplit\u001b[0m\u001b[0;34m(\u001b[0m\u001b[0;34m)\u001b[0m\u001b[0;34m\u001b[0m\u001b[0;34m\u001b[0m\u001b[0m\n\u001b[0;32m----> 2\u001b[0;31m \u001b[0mc\u001b[0m\u001b[0;34m=\u001b[0m\u001b[0mlist\u001b[0m\u001b[0;34m(\u001b[0m\u001b[0mmap\u001b[0m\u001b[0;34m(\u001b[0m\u001b[0mint\u001b[0m\u001b[0;34m,\u001b[0m\u001b[0minput\u001b[0m\u001b[0;34m(\u001b[0m\u001b[0;34m)\u001b[0m\u001b[0;34m.\u001b[0m\u001b[0msplit\u001b[0m\u001b[0;34m(\u001b[0m\u001b[0;34m)\u001b[0m\u001b[0;34m)\u001b[0m\u001b[0;34m)\u001b[0m\u001b[0;34m\u001b[0m\u001b[0;34m\u001b[0m\u001b[0m\n\u001b[0m\u001b[1;32m      3\u001b[0m \u001b[0mc\u001b[0m\u001b[0;34m.\u001b[0m\u001b[0msort\u001b[0m\u001b[0;34m(\u001b[0m\u001b[0;34m)\u001b[0m\u001b[0;34m\u001b[0m\u001b[0;34m\u001b[0m\u001b[0m\n\u001b[1;32m      4\u001b[0m \u001b[0mprint\u001b[0m\u001b[0;34m(\u001b[0m\u001b[0mc\u001b[0m\u001b[0;34m[\u001b[0m\u001b[0mm\u001b[0m\u001b[0;34m]\u001b[0m\u001b[0;34m)\u001b[0m\u001b[0;34m\u001b[0m\u001b[0;34m\u001b[0m\u001b[0m\n",
            "\u001b[0;31mTypeError\u001b[0m: 'list' object is not callable"
          ]
        }
      ]
    },
    {
      "cell_type": "code",
      "metadata": {
        "colab": {
          "base_uri": "https://localhost:8080/",
          "height": 252
        },
        "id": "8ho1lxUFSIA8",
        "outputId": "62de5107-31a6-4aa9-f979-6e268293d3c6"
      },
      "source": [
        "a = input()\n",
        "n = 2\n",
        "out = [a[k:k+n] for k in range(0, len(a), n)]\n",
        "out\n",
        "c=[]\n",
        "for i in out:\n",
        "   c.append(str(i)[1])\n",
        "   c.append(str(i)[0])\n",
        "c"
      ],
      "execution_count": null,
      "outputs": [
        {
          "name": "stdout",
          "output_type": "stream",
          "text": [
            "39631\n"
          ]
        },
        {
          "output_type": "error",
          "ename": "IndexError",
          "evalue": "ignored",
          "traceback": [
            "\u001b[0;31m---------------------------------------------------------------------------\u001b[0m",
            "\u001b[0;31mIndexError\u001b[0m                                Traceback (most recent call last)",
            "\u001b[0;32m<ipython-input-10-45edb45c0f4b>\u001b[0m in \u001b[0;36m<module>\u001b[0;34m()\u001b[0m\n\u001b[1;32m      5\u001b[0m \u001b[0mc\u001b[0m\u001b[0;34m=\u001b[0m\u001b[0;34m[\u001b[0m\u001b[0;34m]\u001b[0m\u001b[0;34m\u001b[0m\u001b[0;34m\u001b[0m\u001b[0m\n\u001b[1;32m      6\u001b[0m \u001b[0;32mfor\u001b[0m \u001b[0mi\u001b[0m \u001b[0;32min\u001b[0m \u001b[0mout\u001b[0m\u001b[0;34m:\u001b[0m\u001b[0;34m\u001b[0m\u001b[0;34m\u001b[0m\u001b[0m\n\u001b[0;32m----> 7\u001b[0;31m    \u001b[0mc\u001b[0m\u001b[0;34m.\u001b[0m\u001b[0mappend\u001b[0m\u001b[0;34m(\u001b[0m\u001b[0mstr\u001b[0m\u001b[0;34m(\u001b[0m\u001b[0mi\u001b[0m\u001b[0;34m)\u001b[0m\u001b[0;34m[\u001b[0m\u001b[0;36m1\u001b[0m\u001b[0;34m]\u001b[0m\u001b[0;34m)\u001b[0m\u001b[0;34m\u001b[0m\u001b[0;34m\u001b[0m\u001b[0m\n\u001b[0m\u001b[1;32m      8\u001b[0m    \u001b[0mc\u001b[0m\u001b[0;34m.\u001b[0m\u001b[0mappend\u001b[0m\u001b[0;34m(\u001b[0m\u001b[0mstr\u001b[0m\u001b[0;34m(\u001b[0m\u001b[0mi\u001b[0m\u001b[0;34m)\u001b[0m\u001b[0;34m[\u001b[0m\u001b[0;36m0\u001b[0m\u001b[0;34m]\u001b[0m\u001b[0;34m)\u001b[0m\u001b[0;34m\u001b[0m\u001b[0;34m\u001b[0m\u001b[0m\n\u001b[1;32m      9\u001b[0m \u001b[0mc\u001b[0m\u001b[0;34m\u001b[0m\u001b[0;34m\u001b[0m\u001b[0m\n",
            "\u001b[0;31mIndexError\u001b[0m: string index out of range"
          ]
        }
      ]
    },
    {
      "cell_type": "code",
      "metadata": {
        "colab": {
          "base_uri": "https://localhost:8080/"
        },
        "id": "4zflHOAnjrAl",
        "outputId": "2174cff2-bbb2-4204-d2fe-9b57219b1267"
      },
      "source": [
        "m=input()\n",
        "n=input()\n",
        "c=[i for i in m]\n",
        "for i in c:\n",
        "  if i==n:\n",
        "    c.remove(n)\n",
        "c\n",
        "print(len(c))"
      ],
      "execution_count": null,
      "outputs": [
        {
          "output_type": "stream",
          "name": "stdout",
          "text": [
            "5644456\n",
            "5\n",
            "5\n"
          ]
        }
      ]
    },
    {
      "cell_type": "code",
      "metadata": {
        "colab": {
          "base_uri": "https://localhost:8080/"
        },
        "id": "E6sXySFdtc-a",
        "outputId": "1a1fbb40-67dc-49c7-8de1-faa6d245d8be"
      },
      "source": [
        "def is_perfect_cube(number) -> bool:\n",
        "\n",
        "    number = abs(number)  # Prevents errors due to negative numbers\n",
        "    return round(number ** (1 / 3)) ** 3 == number\n",
        "\n",
        "n=int(input())\n",
        "c=list(map(int,input().split()))\n",
        "k=sum(c)\n",
        "if is_perfect_cube(k):\n",
        "  print(\"Yes\")\n",
        "else:\n",
        "  t=round(k ** (1 / 3))\n",
        "  j=t+1\n",
        "  d=j**3\n",
        "  print(d-k)"
      ],
      "execution_count": null,
      "outputs": [
        {
          "output_type": "stream",
          "name": "stdout",
          "text": [
            "5\n",
            "60 891 520 213 44\n",
            "Yes\n"
          ]
        }
      ]
    },
    {
      "cell_type": "code",
      "metadata": {
        "colab": {
          "base_uri": "https://localhost:8080/"
        },
        "id": "sm7XU2tFwH0N",
        "outputId": "3f14b483-0a3a-460f-a65b-f2d37260b181"
      },
      "source": [
        "n=input()\n",
        "c=[ord(i) for i in n]\n",
        "c.sort()\n",
        "k=c[0]+c[-1]\n",
        "print(k)"
      ],
      "execution_count": null,
      "outputs": [
        {
          "output_type": "stream",
          "name": "stdout",
          "text": [
            "aAkliP\n",
            "173\n"
          ]
        }
      ]
    },
    {
      "cell_type": "code",
      "metadata": {
        "id": "Z3pcKjJqxHTA"
      },
      "source": [
        "n,m,l=input().split()\n",
        "\n",
        "n=str(n)\n",
        "m=str(m)\n",
        "l=str(l)\n",
        "c=[]\n",
        "d=[]\n",
        "f=[]\n",
        "for i in n:\n",
        "  c.append(int(i))\n",
        "for i in m:\n",
        "  d.append(int(i))\n",
        "for i in l:\n",
        "  f.append(int(i))\n",
        "q=max(c)\n",
        "w=max(d)\n",
        "e=max(f)\n",
        "a=q+w+e \n",
        "c.remove(q)\n",
        "d.remove(q)\n",
        "f.remove(q)\n",
        "q=max(c)\n",
        "w=max(d)\n",
        "e=max(f)\n",
        "b=q+w+e\n",
        "print(a-b)"
      ],
      "execution_count": null,
      "outputs": []
    },
    {
      "cell_type": "code",
      "metadata": {
        "colab": {
          "base_uri": "https://localhost:8080/"
        },
        "id": "bATnst1ky_8D",
        "outputId": "5f42efc3-9566-4a5f-8307-12b83964d242"
      },
      "source": [
        "s=input()\n",
        "c=s[::-1]\n",
        "k=(int(s)-int(c))\n",
        "k"
      ],
      "execution_count": null,
      "outputs": [
        {
          "name": "stdout",
          "output_type": "stream",
          "text": [
            "1234\n"
          ]
        },
        {
          "output_type": "execute_result",
          "data": {
            "text/plain": [
              "-3087"
            ]
          },
          "metadata": {},
          "execution_count": 7
        }
      ]
    },
    {
      "cell_type": "code",
      "metadata": {
        "colab": {
          "base_uri": "https://localhost:8080/"
        },
        "id": "iHZRmUo6Hg5Y",
        "outputId": "0742ea10-0189-40e2-a1b6-82020aa51a27"
      },
      "source": [
        "n=input()\n",
        "a=[i for i in n.split(\" \")]\n",
        "b=[[x,a.count(x)] for x in set(a) ]\n",
        "l=int(input())\n",
        "c=[]\n",
        "for k,v in b:\n",
        "  if v>=l:\n",
        "    c.append(k)\n",
        "print(b)\n",
        "print(c)   "
      ],
      "execution_count": null,
      "outputs": [
        {
          "output_type": "stream",
          "name": "stdout",
          "text": [
            "aaa sd aaa vb sd bb vb aaa\n",
            "2\n",
            "[['aaa', 3], ['vb', 2], ['sd', 2], ['bb', 1]]\n",
            "['aaa', 'vb', 'sd']\n"
          ]
        }
      ]
    },
    {
      "cell_type": "code",
      "metadata": {
        "colab": {
          "base_uri": "https://localhost:8080/"
        },
        "id": "W23_SdPPNFX9",
        "outputId": "9087533f-fbf9-4da6-c468-b41998860f8c"
      },
      "source": [
        "import math\n",
        " \n",
        "def Nth_of_GP(a, r, N):\n",
        "    return( a * (int)(math.pow(r, N - 1)) )\n",
        "     \n",
        "a,r,N=input().split()\n",
        "a=int(a)\n",
        "r=int(r)\n",
        "N=int(N)\n",
        "     \n",
        "# print(\"The\", N, \"th term of the series is :\",\n",
        "#                             Nth_of_GP(a, r, N))\n",
        "print(Nth_of_GP(a,r,N))"
      ],
      "execution_count": null,
      "outputs": [
        {
          "output_type": "stream",
          "name": "stdout",
          "text": [
            "3 2 4\n",
            "24\n"
          ]
        }
      ]
    },
    {
      "cell_type": "code",
      "metadata": {
        "colab": {
          "base_uri": "https://localhost:8080/"
        },
        "id": "hj_rvLw4PVsY",
        "outputId": "871defc8-c374-4478-964a-930bb79cdb3a"
      },
      "source": [
        "n=input()\n",
        "a=[i for i in n]\n",
        "b=[[x,n.count(x)] for x in set(a)]\n",
        "m=int(input())\n",
        "l=input()\n",
        "k=[i for i in l]\n",
        "sum=0\n",
        "for i in k:\n",
        "  for j,v in b:\n",
        "    if i==j:\n",
        "      c=v*ord(i)\n",
        "      sum+=c\n",
        "print(b)\n",
        "print(sum)"
      ],
      "execution_count": null,
      "outputs": [
        {
          "output_type": "stream",
          "name": "stdout",
          "text": [
            "aAbcDbfdab\n",
            "3\n",
            "a A b\n",
            "[['A', 1], ['c', 1], ['D', 1], ['b', 3], ['d', 1], ['f', 1], ['a', 2]]\n",
            "553\n"
          ]
        }
      ]
    },
    {
      "cell_type": "code",
      "metadata": {
        "id": "VT17UpJCRpUI"
      },
      "source": [
        "n=input()\n",
        "c=[int(i) for i in n]\n",
        "print(c)\n",
        "# z=sum(c)\n",
        "w=0\n",
        "for i in c:\n",
        "  w+=i\n",
        "w=int(w)\n",
        "print(w)\n",
        "v={'0':'a',\n",
        "   '1':'b',\n",
        "   '2':'c',\n",
        "   '3':'d',\n",
        "   '4':'e',\n",
        "   '5':'f',\n",
        "   '6':'g',\n",
        "   '7':'h',\n",
        "   '8':'i',\n",
        "   '9':'j',\n",
        "   '10':'k',\n",
        "   '11':'l',\n",
        "   '12':'m',\n",
        "   '13':'n',\n",
        "   '14':'o',\n",
        "   '15':'p',\n",
        "   '16':'q',\n",
        "   '17':'r',\n",
        "   '18':'s',\n",
        "   '19':'t',\n",
        "   '20':'u',\n",
        "   '21':'v',\n",
        "   '22':'w',\n",
        "   '23':'x',\n",
        "   '24':'y',\n",
        "   '25':'z'}\n",
        "for o,p in v.items():\n",
        "  if w==int(o+'1'):\n",
        "    print(p)\n",
        "  else:\n",
        "    sum = 0\n",
        "    for t in str(w):\n",
        "      sum+=int(t)\n",
        "      print(sum)"
      ],
      "execution_count": null,
      "outputs": []
    },
    {
      "cell_type": "code",
      "metadata": {
        "colab": {
          "base_uri": "https://localhost:8080/"
        },
        "id": "5iM-7FtrhpSi",
        "outputId": "c84ed371-0511-4106-e34b-5732704f82ee"
      },
      "source": [
        "c=[12,34,45,8,12,6,7,14]\n",
        "k=(c[3-1:6])\n",
        "sum=0\n",
        "for i in k:\n",
        "  sum+=i\n",
        "print(k)\n",
        "sum"
      ],
      "execution_count": 43,
      "outputs": [
        {
          "output_type": "stream",
          "name": "stdout",
          "text": [
            "[45, 8, 12, 6]\n"
          ]
        },
        {
          "output_type": "execute_result",
          "data": {
            "text/plain": [
              "71"
            ]
          },
          "metadata": {},
          "execution_count": 43
        }
      ]
    },
    {
      "cell_type": "code",
      "metadata": {
        "colab": {
          "base_uri": "https://localhost:8080/"
        },
        "id": "4HYnArPZmpkG",
        "outputId": "37051dfd-bbb1-48ba-c965-9579f8222b15"
      },
      "source": [
        "i,j,k=input().split()\n",
        "print(min(i[0],j[0],k[0]),max(i[1],j[1],k[1]),min(i[2],j[2],k[2]),max(i[3],j[3],k[3]),sep=\"\")"
      ],
      "execution_count": 44,
      "outputs": [
        {
          "output_type": "stream",
          "name": "stdout",
          "text": [
            "3521 2452 1352\n",
            "1522\n"
          ]
        }
      ]
    },
    {
      "cell_type": "code",
      "metadata": {
        "colab": {
          "base_uri": "https://localhost:8080/",
          "height": 252
        },
        "id": "_7Z2FKsJm9Vi",
        "outputId": "31834f34-f40e-4f35-87be-92a611668735"
      },
      "source": [
        "string =input()\n",
        "  \n",
        "# Defining splitting point\n",
        "n = 2\n",
        "  \n",
        "# Using list comprehension\n",
        "out = [(string[i:i+n]) for i in range(0, len(string), n)]\n",
        "  \n",
        "# Printing output\n",
        "print(out)\n",
        "v=[]\n",
        "for i in out:\n",
        "  v.append(max())"
      ],
      "execution_count": 48,
      "outputs": [
        {
          "output_type": "stream",
          "name": "stdout",
          "text": [
            "145279886\n",
            "['14', '52', '79', '88', '6']\n"
          ]
        },
        {
          "output_type": "error",
          "ename": "IndexError",
          "evalue": "ignored",
          "traceback": [
            "\u001b[0;31m---------------------------------------------------------------------------\u001b[0m",
            "\u001b[0;31mIndexError\u001b[0m                                Traceback (most recent call last)",
            "\u001b[0;32m<ipython-input-48-b9c85d3dfd7d>\u001b[0m in \u001b[0;36m<module>\u001b[0;34m()\u001b[0m\n\u001b[1;32m     11\u001b[0m \u001b[0mv\u001b[0m\u001b[0;34m=\u001b[0m\u001b[0;34m[\u001b[0m\u001b[0;34m]\u001b[0m\u001b[0;34m\u001b[0m\u001b[0;34m\u001b[0m\u001b[0m\n\u001b[1;32m     12\u001b[0m \u001b[0;32mfor\u001b[0m \u001b[0mi\u001b[0m \u001b[0;32min\u001b[0m \u001b[0mout\u001b[0m\u001b[0;34m:\u001b[0m\u001b[0;34m\u001b[0m\u001b[0;34m\u001b[0m\u001b[0m\n\u001b[0;32m---> 13\u001b[0;31m   \u001b[0mv\u001b[0m\u001b[0;34m.\u001b[0m\u001b[0mappend\u001b[0m\u001b[0;34m(\u001b[0m\u001b[0mmax\u001b[0m\u001b[0;34m(\u001b[0m\u001b[0mout\u001b[0m\u001b[0;34m[\u001b[0m\u001b[0mint\u001b[0m\u001b[0;34m(\u001b[0m\u001b[0mi\u001b[0m\u001b[0;34m)\u001b[0m\u001b[0;34m]\u001b[0m\u001b[0;34m)\u001b[0m\u001b[0;34m)\u001b[0m\u001b[0;34m\u001b[0m\u001b[0;34m\u001b[0m\u001b[0m\n\u001b[0m\u001b[1;32m     14\u001b[0m \u001b[0mv\u001b[0m\u001b[0;34m\u001b[0m\u001b[0;34m\u001b[0m\u001b[0m\n",
            "\u001b[0;31mIndexError\u001b[0m: list index out of range"
          ]
        }
      ]
    },
    {
      "cell_type": "code",
      "metadata": {
        "colab": {
          "base_uri": "https://localhost:8080/"
        },
        "id": "3e_K8raDubP9",
        "outputId": "8a5eba2f-bac1-492e-c575-c5c63ec3be2c"
      },
      "source": [
        "n=input()\n",
        "x=0\n",
        "while n:\n",
        "  if int(n)%2==0:\n",
        "    n=int(n)//2\n",
        "    x+=1\n",
        "  else:\n",
        "    n=n-1\n",
        "    x+=1\n",
        "x\n"
      ],
      "execution_count": 51,
      "outputs": [
        {
          "name": "stdout",
          "output_type": "stream",
          "text": [
            "12\n"
          ]
        },
        {
          "output_type": "execute_result",
          "data": {
            "text/plain": [
              "5"
            ]
          },
          "metadata": {},
          "execution_count": 51
        }
      ]
    }
  ]
}