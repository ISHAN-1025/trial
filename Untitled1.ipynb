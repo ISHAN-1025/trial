{
  "nbformat": 4,
  "nbformat_minor": 0,
  "metadata": {
    "colab": {
      "name": "Untitled1.ipynb",
      "provenance": [],
      "authorship_tag": "ABX9TyODYwLrNwoPjWWur1QrfaPB"
    },
    "kernelspec": {
      "name": "python3",
      "display_name": "Python 3"
    },
    "language_info": {
      "name": "python"
    }
  },
  "cells": [
    {
      "cell_type": "code",
      "metadata": {
        "colab": {
          "base_uri": "https://localhost:8080/"
        },
        "id": "-9_GJRSdEgNV",
        "outputId": "dc36db3b-05dc-4e63-ff75-a12a38742372"
      },
      "source": [
        "\n",
        "\n",
        "\n",
        "\n",
        "\n",
        "n=int(input())\n",
        "a=list(map(int,input().split()))\n",
        "a.sort()\n",
        "a\n",
        "# print(a[-1]+a[-2])"
      ],
      "execution_count": null,
      "outputs": [
        {
          "name": "stdout",
          "output_type": "stream",
          "text": [
            "5\n",
            "15 26 13 7 45\n"
          ]
        },
        {
          "output_type": "execute_result",
          "data": {
            "text/plain": [
              "[7, 13, 15, 26, 45]"
            ]
          },
          "metadata": {},
          "execution_count": 4
        }
      ]
    },
    {
      "cell_type": "code",
      "metadata": {
        "colab": {
          "base_uri": "https://localhost:8080/"
        },
        "id": "PToWSxfNJNY9",
        "outputId": "22387e49-808a-4032-a813-fb232b5ea33c"
      },
      "source": [
        "#### OLDEST PRODUCT  BEUTIFY ME\n",
        "\n",
        "n=input()\n",
        "c=[i for i in n]\n",
        "c.sort()\n",
        "print(c[0])"
      ],
      "execution_count": null,
      "outputs": [
        {
          "output_type": "stream",
          "name": "stdout",
          "text": [
            "345627\n",
            "2\n"
          ]
        }
      ]
    },
    {
      "cell_type": "code",
      "metadata": {
        "colab": {
          "base_uri": "https://localhost:8080/"
        },
        "id": "PMQCAZ20K3J7",
        "outputId": "e0a91be8-e3d5-47f7-ffd6-5537c8ada514"
      },
      "source": [
        "n,m=input().split()\n",
        "l=list(map(int,input().split()))\n",
        "for x in l:\n",
        "    for y in l:\n",
        "        if x+y==m:\n",
        "            print(x,y)\n"
      ],
      "execution_count": null,
      "outputs": [
        {
          "name": "stdout",
          "output_type": "stream",
          "text": [
            "5 14\n",
            "6 5 3 11 10\n"
          ]
        }
      ]
    },
    {
      "cell_type": "code",
      "metadata": {
        "colab": {
          "base_uri": "https://localhost:8080/"
        },
        "id": "7NITNHUh9L0r",
        "outputId": "664049fe-c5bf-4b84-e27e-26d6851a16c8"
      },
      "source": [
        "n,m=input().split()\n",
        "c=list(map(int,input().split()))\n",
        "c.sort()\n",
        "k=int(m)\n",
        "print(c[-k])\n",
        "c"
      ],
      "execution_count": null,
      "outputs": [
        {
          "output_type": "stream",
          "name": "stdout",
          "text": [
            "5 3\n",
            "45 32 67 21 12\n",
            "32\n"
          ]
        },
        {
          "output_type": "execute_result",
          "data": {
            "text/plain": [
              "[12, 21, 32, 45, 67]"
            ]
          },
          "metadata": {},
          "execution_count": 4
        }
      ]
    },
    {
      "cell_type": "code",
      "metadata": {
        "colab": {
          "base_uri": "https://localhost:8080/"
        },
        "id": "shhWXiyNBIxn",
        "outputId": "115e177f-9659-4dd6-828e-3279e63c5ef9"
      },
      "source": [
        "q,w,e=input().split()\n",
        "v=list(map(int,input().split()))[:int(q)]\n",
        "m=[]\n",
        "for i in v:\n",
        "  c=0\n",
        "  if (int(w)<i<int(e)):\n",
        "    c+=1\n",
        "  else:\n",
        "    m.append(i)\n",
        "\n",
        "print(*m)"
      ],
      "execution_count": null,
      "outputs": [
        {
          "output_type": "stream",
          "name": "stdout",
          "text": [
            "7 3 6\n",
            "2 5 1 8 6 9 4\n",
            "2 1 8 6 9\n"
          ]
        }
      ]
    },
    {
      "cell_type": "code",
      "metadata": {
        "colab": {
          "base_uri": "https://localhost:8080/"
        },
        "id": "BmcYaKz2GMC9",
        "outputId": "41501146-e3be-4ec0-dd73-528de01bcd0e"
      },
      "source": [
        "q,w=input().split()\n",
        "v=list(map(int,input().split()))[:int(q)]\n",
        "c=[]\n",
        "for i in v:\n",
        "  if i==int(w):\n",
        "    c.append(v.index(i))\n",
        "  elif i>int(w):\n",
        "    c.append(v.index(i))\n",
        "print(c[0])"
      ],
      "execution_count": null,
      "outputs": [
        {
          "output_type": "stream",
          "name": "stdout",
          "text": [
            "5 6\n",
            "1 3 5 7 9\n",
            "3\n"
          ]
        }
      ]
    },
    {
      "cell_type": "code",
      "metadata": {
        "colab": {
          "base_uri": "https://localhost:8080/"
        },
        "id": "BiVDEYFsK5S2",
        "outputId": "2c2ed554-45a3-4a9b-c406-4498e0a6bae2"
      },
      "source": [
        "n=input()\n",
        "a=[i for i in n]\n",
        "b=[[x,a.count(x)] for x in set(a) ]\n",
        "c=0\n",
        "for k,v in b:\n",
        "  if v==1:\n",
        "    c+=1\n",
        "print(c)"
      ],
      "execution_count": null,
      "outputs": [
        {
          "name": "stdout",
          "output_type": "stream",
          "text": [
            "alphaadida\n"
          ]
        },
        {
          "output_type": "execute_result",
          "data": {
            "text/plain": [
              "4"
            ]
          },
          "metadata": {},
          "execution_count": 15
        }
      ]
    },
    {
      "cell_type": "code",
      "metadata": {
        "colab": {
          "base_uri": "https://localhost:8080/"
        },
        "id": "EEWbrTeZoUqD",
        "outputId": "d96e7af2-25b0-4cd1-8c86-9e66961dced5"
      },
      "source": [
        "n,m=input().split()\n",
        "l=list(map(int,input().split()))\n",
        "c=[]\n",
        "for x in l:\n",
        "  for y in l:\n",
        "    if x+y==m:\n",
        "      c.append(index(x))\n",
        "c \n",
        "r=0     "
      ],
      "execution_count": 4,
      "outputs": [
        {
          "name": "stdout",
          "output_type": "stream",
          "text": [
            "5 14\n",
            "6 5 3 11 10\n"
          ]
        }
      ]
    },
    {
      "cell_type": "code",
      "metadata": {
        "id": "iQvyotMRqbP5"
      },
      "source": [
        "# import itertools\n",
        "# for numbers in itertools.combinations(l,2):\n",
        "#     if sum(numbers) == m:\n",
        "#         r=[l.index(number) for number in numbers]\n",
        "# r"
      ],
      "execution_count": 6,
      "outputs": []
    },
    {
      "cell_type": "code",
      "metadata": {
        "colab": {
          "base_uri": "https://localhost:8080/"
        },
        "id": "YLs2-ewW3yfv",
        "outputId": "1afd8351-d4c9-47f4-9cc5-29e63fbc56bb"
      },
      "source": [
        "n,m=input().split()\n",
        "l=list(map(int,input().split()))\n",
        "c=[]\n",
        "for i in l:\n",
        "    if i < int(m):\n",
        "        pair = int(m) - int(i)\n",
        "        if pair in l:\n",
        "            c.append(l.index(i))\n",
        "            c.append(l.index(pair))\n",
        "            break\n",
        "print(*c)"
      ],
      "execution_count": 10,
      "outputs": [
        {
          "output_type": "stream",
          "name": "stdout",
          "text": [
            "5 14\n",
            "6 5 3 11 10\n",
            "2 3\n"
          ]
        }
      ]
    }
  ]
}